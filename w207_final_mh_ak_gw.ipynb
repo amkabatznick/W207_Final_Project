{
  "cells": [
    {
      "metadata": {
        "_uuid": "e49e5ede1f1b670d8324f5584b842b1418fbb430",
        "_cell_guid": "d8ba238c-c233-45c0-a848-4065c481f95e",
        "trusted": false,
        "collapsed": true
      },
      "cell_type": "code",
      "source": "# This Python 3 environment comes with many helpful analytics libraries installed\n# It is defined by the kaggle/python docker image: https://github.com/kaggle/docker-python\n# For example, here's several helpful packages to load in \n\nimport numpy as np # linear algebra\nimport pandas as pd # data processing, CSV file I/O (e.g. pd.read_csv)\nfrom datetime import datetime\nimport seaborn as sn\nimport matplotlib.pyplot as plt\n# Input data files are available in the \"../input/\" directory.\n# For example, running this (by clicking run or pressing Shift+Enter) will list the files in the input directory\n\nfrom subprocess import check_output\nprint(check_output([\"ls\", \"../input\"]).decode(\"utf8\"))\n\n%matplotlib inline\n# Any results you write to the current directory are saved as output.",
      "execution_count": 16,
      "outputs": []
    },
    {
      "metadata": {
        "_uuid": "a9870ab69188daa2a1632a323984cfc08d2b4103",
        "_cell_guid": "931ce017-7787-408a-a6ed-cc090604b1b7"
      },
      "cell_type": "markdown",
      "source": "**Load Dataset**"
    },
    {
      "metadata": {
        "_uuid": "6a18267131afedd7bba8427284b6dcb46690fb17",
        "_cell_guid": "d08b1788-8553-46a0-87f2-4555e07966bd",
        "collapsed": true,
        "trusted": false
      },
      "cell_type": "code",
      "source": "BikeData = pd.read_csv(\"../input/train.csv\")",
      "execution_count": 2,
      "outputs": []
    },
    {
      "metadata": {
        "_uuid": "7cc43c65a2249580bd6ccb79e60fe4ef55c48f18",
        "_cell_guid": "f1b8697b-46f2-4d78-822c-030f4c2d2f38"
      },
      "cell_type": "markdown",
      "source": "**Exploratory Data Analysis**"
    },
    {
      "metadata": {
        "_uuid": "9f804df466eb76ef86e84688567fb3edeb5f9f9a",
        "_cell_guid": "dd871701-df66-48f7-8781-1a01c48330d6",
        "trusted": false,
        "collapsed": true
      },
      "cell_type": "code",
      "source": "BikeData.shape",
      "execution_count": 3,
      "outputs": []
    },
    {
      "metadata": {
        "_uuid": "c73257bd04ea0ad6158837685acafbcf04ca89d1",
        "_cell_guid": "f939e9d4-0193-4a95-b030-6a4053457273"
      },
      "cell_type": "markdown",
      "source": "**Data Types of the Variables**"
    },
    {
      "metadata": {
        "_uuid": "84fb8e5c7f1c1e9a848769eab15fa1edeaa2a73b",
        "_cell_guid": "565587cf-57c7-462d-a6e0-5f2ab7fe4e01",
        "trusted": false,
        "collapsed": true
      },
      "cell_type": "code",
      "source": "BikeData.dtypes",
      "execution_count": 4,
      "outputs": []
    },
    {
      "metadata": {
        "_uuid": "64a482575ef71484cc1f983515afe705e4c8ce7c",
        "_cell_guid": "6f759c79-17e4-4bf1-947d-039ba13565ed",
        "trusted": false,
        "collapsed": true
      },
      "cell_type": "code",
      "source": "BikeData.head()",
      "execution_count": 5,
      "outputs": []
    },
    {
      "metadata": {
        "_uuid": "9e539b0ba25192bbdeb52d04a1ca41edc266c728",
        "_cell_guid": "1b8948ba-010b-481c-977c-956e02e82c96",
        "collapsed": true,
        "trusted": false
      },
      "cell_type": "code",
      "source": "#Convert BikeData.datetime to datetime\nBikeData.datetime = pd.to_datetime(BikeData.datetime)\n#Extract Month\nBikeData['month'] = BikeData.datetime.dt.month\n#Extract Hour\nBikeData['hour'] = BikeData.datetime.dt.hour\n",
      "execution_count": 6,
      "outputs": []
    },
    {
      "metadata": {
        "_uuid": "6a18914877f96847aba03cfe906ab5e45e42694b",
        "_cell_guid": "254fb8e4-d308-4ace-95dd-8848527c8135",
        "collapsed": true,
        "trusted": false
      },
      "cell_type": "code",
      "source": "categoryVariableList = [\"hour\",\"month\",\"season\",\"weather\",\"holiday\",\"workingday\"]\nfor var in categoryVariableList:\n    BikeData[var] = BikeData[var].astype(\"category\")",
      "execution_count": 7,
      "outputs": []
    },
    {
      "metadata": {
        "_uuid": "788791a65fa4fefd8f1a9ffa7afc369e3a752640",
        "_cell_guid": "2aee6cfb-6384-4bd2-b7f3-9f93822a139a",
        "trusted": false,
        "collapsed": true
      },
      "cell_type": "code",
      "source": "BikeData.dtypes",
      "execution_count": 8,
      "outputs": []
    },
    {
      "metadata": {
        "_uuid": "89db0d455e5a5744dc579aa544f9b9c89f5f140e",
        "_cell_guid": "3c1ec0a1-49bd-4b59-994e-ab107cc93c65",
        "trusted": false,
        "collapsed": true
      },
      "cell_type": "code",
      "source": "BikeData.groupby(\"month\")['count'].mean()",
      "execution_count": 22,
      "outputs": []
    },
    {
      "metadata": {
        "_uuid": "a7ace778d3eac87d0bc7fb760e6f14aa7c7ef6c0",
        "_cell_guid": "2e14cbab-75a2-42a7-8727-ed9dc7dce7b1",
        "trusted": false,
        "collapsed": true
      },
      "cell_type": "code",
      "source": "fig,(ax1,ax2,ax3,ax4)= plt.subplots(nrows=4)\nfig.set_size_inches(12,20)\n\nmonthAggregated = pd.DataFrame(BikeData.groupby(\"month\")[\"count\"].mean()).reset_index()\n#monthSorted = monthAggregated.sort_values(by=\"count\",ascending=False)\n\nsn.barplot(data=pd.DataFrame(BikeData.groupby(\"month\")[\"count\"].mean()).reset_index(),x=\"month\",y=\"count\",ax=ax1)\nax1.set(xlabel='Month', ylabel='Avearage Count',title=\"Average Count By Month\")\n\nhourAggregated = pd.DataFrame(BikeData.groupby([\"hour\",\"season\"],sort=True)[\"count\"].mean()).reset_index()\nsn.pointplot(x=hourAggregated[\"hour\"], y=hourAggregated[\"count\"],hue=hourAggregated[\"season\"], data=hourAggregated, join=True,ax=ax2)\nax2.set(xlabel='Hour Of The Day', ylabel='Users Count',title=\"Average Users Count By Hour Of The Day Across Season\",label='big')\n\nWorkDayAggregated = pd.DataFrame(BikeData.groupby([\"hour\",\"workingday\"],sort=True)[\"count\"].mean()).reset_index()\nsn.pointplot(x=WorkDayAggregated[\"hour\"], y=WorkDayAggregated[\"count\"],hue=WorkDayAggregated[\"workingday\"], data=hourAggregated, join=True,ax=ax3)\nax3.set(xlabel='Hour Of The Day', ylabel='Users Count',title=\"Average Users Count By Hour Of The Day for Workdays/Non Work Days\",label='big')\n\nWorkDayAggregated = pd.DataFrame(BikeData.groupby([\"hour\",\"weather\"],sort=True)[\"count\"].mean()).reset_index()\nsn.pointplot(x=WorkDayAggregated[\"hour\"], y=WorkDayAggregated[\"count\"],hue=WorkDayAggregated[\"weather\"], data=hourAggregated, join=True,ax=ax4)\nax3.set(xlabel='Hour Of The Day', ylabel='Users Count',title=\"Average Users Count By Hour by Weather\",label='big')",
      "execution_count": null,
      "outputs": []
    },
    {
      "metadata": {
        "_uuid": "76e3b0fdb615e6c596fb58e97f592cc7a49b1c75",
        "_cell_guid": "a51984de-61c3-4d1d-9563-f78beb13a566",
        "collapsed": true,
        "trusted": false
      },
      "cell_type": "code",
      "source": "",
      "execution_count": null,
      "outputs": []
    }
  ],
  "metadata": {
    "kernelspec": {
      "display_name": "Python 3",
      "language": "python",
      "name": "python3"
    },
    "language_info": {
      "file_extension": ".py",
      "name": "python",
      "codemirror_mode": {
        "version": 3,
        "name": "ipython"
      },
      "version": "3.6.3",
      "nbconvert_exporter": "python",
      "mimetype": "text/x-python",
      "pygments_lexer": "ipython3"
    }
  },
  "nbformat": 4,
  "nbformat_minor": 1
}