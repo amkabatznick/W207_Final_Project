{
 "cells": [
  {
   "cell_type": "markdown",
   "metadata": {},
   "source": [
    "Final Project w207\n",
    "\n",
    "Matthew Holmes\n",
    "Andrew Kabatznick\n",
    "Grant Whittington\n",
    "\n",
    "Data from: https://www.kaggle.com/c/bike-sharing-demand/data"
   ]
  },
  {
   "cell_type": "code",
   "execution_count": 126,
   "metadata": {},
   "outputs": [],
   "source": [
    "%matplotlib inline\n",
    "\n",
    "##basically just importanting most of the libraries from previous assignments\n",
    "\n",
    "import numpy as np\n",
    "import pandas as pd\n",
    "import csv\n",
    "import matplotlib.pyplot as plt\n",
    "from sklearn import metrics\n",
    "from sklearn.decomposition import PCA\n",
    "from sklearn.cluster import KMeans\n",
    "from sklearn.mixture import GMM\n",
    "from matplotlib.colors import LogNorm\n",
    "\n",
    "from sklearn.pipeline import Pipeline\n",
    "from sklearn.neighbors import KNeighborsClassifier\n",
    "from sklearn.linear_model import LinearRegression\n",
    "from sklearn.linear_model import LogisticRegression\n",
    "from sklearn.naive_bayes import BernoulliNB\n",
    "from sklearn.naive_bayes import MultinomialNB\n",
    "from sklearn.grid_search import GridSearchCV\n",
    "from sklearn.model_selection import train_test_split\n",
    "\n",
    "from sklearn.metrics import confusion_matrix\n",
    "from sklearn import metrics\n",
    "from sklearn.metrics import classification_report"
   ]
  },
  {
   "cell_type": "code",
   "execution_count": 127,
   "metadata": {
    "collapsed": true
   },
   "outputs": [],
   "source": [
    "def transform_raw_data(raw_input):\n",
    "    #Putting Data into Pandas dataframe\n",
    "        Column_Headers = csvfile.readline().split(',')\n",
    "        Column_Headers[-1] = \"totalcount\"\n",
    "        csvfile.next()\n",
    "        train_data = []\n",
    "        for row in csvfile:\n",
    "            new_row = row.replace('\\n', '')\n",
    "            train_data.append(new_row.split(','))\n",
    "        \n",
    "        df = pd.DataFrame(data = train_data[1:-1], columns = Column_Headers)\n",
    "        return df"
   ]
  },
  {
   "cell_type": "code",
   "execution_count": 128,
   "metadata": {},
   "outputs": [],
   "source": [
    "with open('train.csv') as csvfile:\n",
    "    train_data = transform_raw_data(csvfile)\n",
    "with open('test.csv') as csvfile:\n",
    "    test_data = transform_raw_data(csvfile)\n",
    "a = train_data['datetime']\n",
    "[a,b] = a.iloc[1].split()\n",
    "[c,d,e]=a.split('-')"
   ]
  },
  {
   "cell_type": "code",
   "execution_count": 129,
   "metadata": {},
   "outputs": [],
   "source": [
    "##Need to do train/dev split, also modify/add any features we desire\n",
    "def modify_factors(input_data):\n",
    "    output_data=pd.DataFrame(input_data)\n",
    "    ##Split datetime into year, month, day, and hour columns\n",
    "    rawdate = input_data['datetime']\n",
    "    for i in range(len(rawdate)):\n",
    "        [date,hour] = rawdate.iloc[i].split()\n",
    "        [year,month,day] = date.split(\"-\")\n",
    "        output_data['year'] = int(year)\n",
    "        output_data['month']=int(month)\n",
    "        output_data['day']=int(day)\n",
    "        output_data['hour']=int(hour[:2])\n",
    "    ##One hot encoding for season, weather\n",
    "    season_onehot = pd.get_dummies(input_data['season'])\n",
    "    season_onehot.columns = [\"winter\", \"spring\", \"summer\", \"autumn\"]\n",
    "    output_data = pd.concat([output_data,season_onehot],axis=1)\n",
    "    \n",
    "    weather_onehot = pd.get_dummies(input_data['weather'])\n",
    "    weather_onehot.columns = [\"clear\", \"misty\", \"light_precip\", \"heavy_precip\"]\n",
    "    output_data = pd.concat([output_data,weather_onehot],axis=1)\n",
    "    \n",
    "    del output_data['datetime']\n",
    "    del output_data['season']\n",
    "    del output_data['weather']\n",
    "    \n",
    "    return output_data\n",
    "\n",
    "train_data = modify_factors(train_data)"
   ]
  },
  {
   "cell_type": "code",
   "execution_count": 136,
   "metadata": {},
   "outputs": [
    {
     "name": "stdout",
     "output_type": "stream",
     "text": [
      "['holiday', 'workingday', 'temp', 'atemp', 'humidity', 'windspeed', 'year', 'month', 'day', 'hour', 'winter', 'spring', 'summer', 'autumn', 'clear', 'misty', 'light_precip', 'heavy_precip']\n",
      "['holiday', 'workingday', 'temp', 'atemp', 'humidity', 'windspeed', 'year', 'month', 'day']\n",
      "['winter', 'spring', 'summer', 'autumn', 'clear', 'misty', 'light_precip', 'heavy_precip']\n"
     ]
    }
   ],
   "source": [
    "#Splitting Columns into Prediction and Numerical vs Categorical\n",
    "All_Columns = list(train_data.columns.values)\n",
    "Prediction_Columns = All_Columns[:]\n",
    "Prediction_Columns.remove('registered')\n",
    "Prediction_Columns.remove('casual')\n",
    "Prediction_Columns.remove('totalcount')\n",
    "Numerical_Predictors = Prediction_Columns[0:9 or None]\n",
    "Categorical_Predictors = Prediction_Columns[10:-0 or None]"
   ]
  },
  {
   "cell_type": "code",
   "execution_count": 138,
   "metadata": {},
   "outputs": [
    {
     "name": "stdout",
     "output_type": "stream",
     "text": [
      "[ -9.43328682e+00  -2.68387908e+00   8.09656029e+00   2.77722223e+00\n",
      "  -2.81043328e+00   5.96365580e-01  -1.74082970e-13  -8.52651283e-14\n",
      "   1.91846539e-13   8.52651283e-14  -6.42704798e+00  -8.86889163e+00\n",
      "  -4.34808057e+01   5.87767453e+01  -4.76557930e+01  -3.36389611e+01\n",
      "  -5.68255056e+01   1.38120260e+02]\n",
      "0.276640217329\n"
     ]
    }
   ],
   "source": [
    "#Basic Linear Regression using numerical predictors\n",
    "LinearReg = LinearRegression()\n",
    "LinearReg.fit(train_data[Prediction_Columns], train_data['totalcount'])\n",
    "print LinearReg.coef_\n",
    "print LinearReg.score(train_data[Prediction_Columns], train_data['totalcount'])"
   ]
  }
 ],
 "metadata": {
  "anaconda-cloud": {},
  "kernelspec": {
   "display_name": "Python 2",
   "language": "python",
   "name": "python2"
  },
  "language_info": {
   "codemirror_mode": {
    "name": "ipython",
    "version": 2
   },
   "file_extension": ".py",
   "mimetype": "text/x-python",
   "name": "python",
   "nbconvert_exporter": "python",
   "pygments_lexer": "ipython2",
   "version": "2.7.13"
  }
 },
 "nbformat": 4,
 "nbformat_minor": 1
}
