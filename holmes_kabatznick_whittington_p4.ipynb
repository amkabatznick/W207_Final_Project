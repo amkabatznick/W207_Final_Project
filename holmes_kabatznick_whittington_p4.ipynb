{
 "cells": [
  {
   "cell_type": "markdown",
   "metadata": {},
   "source": [
    "Final Project w207\n",
    "\n",
    "Matthew Holmes\n",
    "Andrew Kabatznick\n",
    "Grant Whittington\n",
    "\n",
    "Data from: https://www.kaggle.com/c/bike-sharing-demand/data"
   ]
  },
  {
   "cell_type": "code",
   "execution_count": 87,
   "metadata": {},
   "outputs": [],
   "source": [
    "%matplotlib inline\n",
    "\n",
    "##basically just importanting most of the libraries from previous assignments\n",
    "\n",
    "import numpy as np\n",
    "import pandas as pd\n",
    "import csv\n",
    "import math\n",
    "import matplotlib.pyplot as plt\n",
    "from sklearn import metrics\n",
    "from sklearn.decomposition import PCA\n",
    "from sklearn.cluster import KMeans\n",
    "from sklearn.mixture import GMM\n",
    "from matplotlib.colors import LogNorm\n",
    "from sklearn import tree\n",
    "from sklearn.model_selection import cross_val_score\n",
    "\n",
    "from sklearn.pipeline import Pipeline\n",
    "from sklearn.neighbors import KNeighborsClassifier\n",
    "from sklearn.linear_model import LinearRegression\n",
    "from sklearn.linear_model import LogisticRegression\n",
    "from sklearn.naive_bayes import BernoulliNB\n",
    "from sklearn.naive_bayes import MultinomialNB\n",
    "from sklearn.grid_search import GridSearchCV\n",
    "from sklearn.model_selection import train_test_split\n",
    "\n",
    "from sklearn.metrics import confusion_matrix\n",
    "from sklearn import metrics\n",
    "from sklearn.metrics import classification_report"
   ]
  },
  {
   "cell_type": "code",
   "execution_count": 88,
   "metadata": {
    "collapsed": true
   },
   "outputs": [],
   "source": [
    "def transform_raw_data(raw_input):\n",
    "    #Putting Data into Pandas dataframe\n",
    "        Column_Headers = csvfile.readline().split(',')\n",
    "        Column_Headers[-1] = \"count\"\n",
    "        csvfile.next()\n",
    "        train_data = []\n",
    "        for row in csvfile:\n",
    "            new_row = row.replace('\\n', '')\n",
    "            train_data.append(new_row.split(','))\n",
    "        \n",
    "        df = pd.DataFrame(data = train_data[1:-1], columns = Column_Headers)\n",
    "        return df"
   ]
  },
  {
   "cell_type": "code",
   "execution_count": 89,
   "metadata": {},
   "outputs": [
    {
     "data": {
      "text/html": [
       "<div>\n",
       "<style>\n",
       "    .dataframe thead tr:only-child th {\n",
       "        text-align: right;\n",
       "    }\n",
       "\n",
       "    .dataframe thead th {\n",
       "        text-align: left;\n",
       "    }\n",
       "\n",
       "    .dataframe tbody tr th {\n",
       "        vertical-align: top;\n",
       "    }\n",
       "</style>\n",
       "<table border=\"1\" class=\"dataframe\">\n",
       "  <thead>\n",
       "    <tr style=\"text-align: right;\">\n",
       "      <th></th>\n",
       "      <th>datetime</th>\n",
       "      <th>season</th>\n",
       "      <th>holiday</th>\n",
       "      <th>workingday</th>\n",
       "      <th>weather</th>\n",
       "      <th>temp</th>\n",
       "      <th>atemp</th>\n",
       "      <th>humidity</th>\n",
       "      <th>windspeed</th>\n",
       "      <th>casual</th>\n",
       "      <th>registered</th>\n",
       "      <th>count</th>\n",
       "    </tr>\n",
       "  </thead>\n",
       "  <tbody>\n",
       "    <tr>\n",
       "      <th>0</th>\n",
       "      <td>2011-01-01 02:00:00</td>\n",
       "      <td>1</td>\n",
       "      <td>0</td>\n",
       "      <td>0</td>\n",
       "      <td>1</td>\n",
       "      <td>9.02</td>\n",
       "      <td>13.635</td>\n",
       "      <td>80</td>\n",
       "      <td>0</td>\n",
       "      <td>5</td>\n",
       "      <td>27</td>\n",
       "      <td>32</td>\n",
       "    </tr>\n",
       "    <tr>\n",
       "      <th>1</th>\n",
       "      <td>2011-01-01 03:00:00</td>\n",
       "      <td>1</td>\n",
       "      <td>0</td>\n",
       "      <td>0</td>\n",
       "      <td>1</td>\n",
       "      <td>9.84</td>\n",
       "      <td>14.395</td>\n",
       "      <td>75</td>\n",
       "      <td>0</td>\n",
       "      <td>3</td>\n",
       "      <td>10</td>\n",
       "      <td>13</td>\n",
       "    </tr>\n",
       "    <tr>\n",
       "      <th>2</th>\n",
       "      <td>2011-01-01 04:00:00</td>\n",
       "      <td>1</td>\n",
       "      <td>0</td>\n",
       "      <td>0</td>\n",
       "      <td>1</td>\n",
       "      <td>9.84</td>\n",
       "      <td>14.395</td>\n",
       "      <td>75</td>\n",
       "      <td>0</td>\n",
       "      <td>0</td>\n",
       "      <td>1</td>\n",
       "      <td>1</td>\n",
       "    </tr>\n",
       "    <tr>\n",
       "      <th>3</th>\n",
       "      <td>2011-01-01 05:00:00</td>\n",
       "      <td>1</td>\n",
       "      <td>0</td>\n",
       "      <td>0</td>\n",
       "      <td>2</td>\n",
       "      <td>9.84</td>\n",
       "      <td>12.88</td>\n",
       "      <td>75</td>\n",
       "      <td>6.0032</td>\n",
       "      <td>0</td>\n",
       "      <td>1</td>\n",
       "      <td>1</td>\n",
       "    </tr>\n",
       "    <tr>\n",
       "      <th>4</th>\n",
       "      <td>2011-01-01 06:00:00</td>\n",
       "      <td>1</td>\n",
       "      <td>0</td>\n",
       "      <td>0</td>\n",
       "      <td>1</td>\n",
       "      <td>9.02</td>\n",
       "      <td>13.635</td>\n",
       "      <td>80</td>\n",
       "      <td>0</td>\n",
       "      <td>2</td>\n",
       "      <td>0</td>\n",
       "      <td>2</td>\n",
       "    </tr>\n",
       "  </tbody>\n",
       "</table>\n",
       "</div>"
      ],
      "text/plain": [
       "              datetime season holiday workingday weather  temp   atemp  \\\n",
       "0  2011-01-01 02:00:00      1       0          0       1  9.02  13.635   \n",
       "1  2011-01-01 03:00:00      1       0          0       1  9.84  14.395   \n",
       "2  2011-01-01 04:00:00      1       0          0       1  9.84  14.395   \n",
       "3  2011-01-01 05:00:00      1       0          0       2  9.84   12.88   \n",
       "4  2011-01-01 06:00:00      1       0          0       1  9.02  13.635   \n",
       "\n",
       "  humidity windspeed casual registered count  \n",
       "0       80         0      5         27    32  \n",
       "1       75         0      3         10    13  \n",
       "2       75         0      0          1     1  \n",
       "3       75    6.0032      0          1     1  \n",
       "4       80         0      2          0     2  "
      ]
     },
     "execution_count": 89,
     "metadata": {},
     "output_type": "execute_result"
    }
   ],
   "source": [
    "with open('train.csv') as csvfile:\n",
    "    train_data = transform_raw_data(csvfile)\n",
    "with open('test.csv') as csvfile:\n",
    "    test_data = transform_raw_data(csvfile)\n",
    "\n",
    "train_data.head()"
   ]
  },
  {
   "cell_type": "code",
   "execution_count": 90,
   "metadata": {},
   "outputs": [],
   "source": [
    "##Feature Modification\n",
    "def modify_factors(input_data):\n",
    "    output_data=pd.DataFrame(input_data)\n",
    "    \n",
    "    ##Split datetime into year, month, day, and hour columns\n",
    "    rawdate = input_data['datetime']\n",
    "    \n",
    "    #Initialize new columns\n",
    "    output_data['year']=0\n",
    "    output_data['month']=0\n",
    "    output_data['day']=0\n",
    "    output_data['hour']=0\n",
    "    output_data['past_hour']=0 \n",
    "    \n",
    "    for i in range(len(rawdate)):\n",
    "        \n",
    "        #Use number of rentals for previous day/hour as predictors\n",
    "        if i>=1:\n",
    "            output_data['past_hour'].iloc[i]=output_data['count'].iloc[i-1]\n",
    "        \n",
    "        [date,hour] = rawdate.iloc[i].split()\n",
    "        [year,month,day] = date.split(\"-\")\n",
    "        \n",
    "        output_data['year'].iloc[i] = int(year)\n",
    "        output_data['month'].iloc[i]=int(month)\n",
    "        output_data['day'].iloc[i]=int(day)\n",
    "        output_data['hour'].iloc[i]=int(hour[:2])\n",
    "        \n",
    "        \n",
    "        #Split day into before, during and after work periods (after work in \"intercept\")\n",
    "        output_data['before_work']=0\n",
    "        output_data['during_work']=0\n",
    "        \n",
    "        if output_data['hour'].iloc[i]<9: \n",
    "            output_data['before_work'].iloc[i]=1\n",
    "        elif output_data['hour'].iloc[i]<=17:\n",
    "            output_data['during_work'].iloc[i]=1\n",
    "            \n",
    "        \n",
    "    ##One hot encoding for season, weather\n",
    "    season_onehot = pd.get_dummies(input_data['season'])\n",
    "    season_onehot.columns = [\"winter\", \"spring\", \"summer\", \"autumn\"]\n",
    "    output_data = pd.concat([output_data,season_onehot],axis=1)\n",
    "    \n",
    "    weather_onehot = pd.get_dummies(input_data['weather'])\n",
    "    weather_onehot.columns = [\"clear\", \"misty\", \"light_precip\", \"heavy_precip\"]\n",
    "    output_data = pd.concat([output_data,weather_onehot],axis=1)\n",
    "\n",
    "    \n",
    "    del output_data['datetime']\n",
    "    del output_data['season']\n",
    "    del output_data['weather']\n",
    "    \n",
    "    #Remove Dependent Columns\n",
    "    del output_data['clear']\n",
    "    del output_data['spring']\n",
    "    \n",
    "    return output_data"
   ]
  },
  {
   "cell_type": "code",
   "execution_count": 91,
   "metadata": {},
   "outputs": [],
   "source": [
    "train_data = modify_factors(train_data)"
   ]
  },
  {
   "cell_type": "code",
   "execution_count": 92,
   "metadata": {},
   "outputs": [
    {
     "data": {
      "text/html": [
       "<div>\n",
       "<style>\n",
       "    .dataframe thead tr:only-child th {\n",
       "        text-align: right;\n",
       "    }\n",
       "\n",
       "    .dataframe thead th {\n",
       "        text-align: left;\n",
       "    }\n",
       "\n",
       "    .dataframe tbody tr th {\n",
       "        vertical-align: top;\n",
       "    }\n",
       "</style>\n",
       "<table border=\"1\" class=\"dataframe\">\n",
       "  <thead>\n",
       "    <tr style=\"text-align: right;\">\n",
       "      <th></th>\n",
       "      <th>holiday</th>\n",
       "      <th>workingday</th>\n",
       "      <th>temp</th>\n",
       "      <th>atemp</th>\n",
       "      <th>humidity</th>\n",
       "      <th>windspeed</th>\n",
       "      <th>casual</th>\n",
       "      <th>registered</th>\n",
       "      <th>count</th>\n",
       "      <th>year</th>\n",
       "      <th>...</th>\n",
       "      <th>hour</th>\n",
       "      <th>past_hour</th>\n",
       "      <th>before_work</th>\n",
       "      <th>during_work</th>\n",
       "      <th>winter</th>\n",
       "      <th>summer</th>\n",
       "      <th>autumn</th>\n",
       "      <th>misty</th>\n",
       "      <th>light_precip</th>\n",
       "      <th>heavy_precip</th>\n",
       "    </tr>\n",
       "  </thead>\n",
       "  <tbody>\n",
       "    <tr>\n",
       "      <th>0</th>\n",
       "      <td>0</td>\n",
       "      <td>0</td>\n",
       "      <td>9.02</td>\n",
       "      <td>13.635</td>\n",
       "      <td>80</td>\n",
       "      <td>0</td>\n",
       "      <td>5</td>\n",
       "      <td>27</td>\n",
       "      <td>32</td>\n",
       "      <td>2011</td>\n",
       "      <td>...</td>\n",
       "      <td>2</td>\n",
       "      <td>0</td>\n",
       "      <td>0</td>\n",
       "      <td>0</td>\n",
       "      <td>1</td>\n",
       "      <td>0</td>\n",
       "      <td>0</td>\n",
       "      <td>0</td>\n",
       "      <td>0</td>\n",
       "      <td>0</td>\n",
       "    </tr>\n",
       "    <tr>\n",
       "      <th>1</th>\n",
       "      <td>0</td>\n",
       "      <td>0</td>\n",
       "      <td>9.84</td>\n",
       "      <td>14.395</td>\n",
       "      <td>75</td>\n",
       "      <td>0</td>\n",
       "      <td>3</td>\n",
       "      <td>10</td>\n",
       "      <td>13</td>\n",
       "      <td>2011</td>\n",
       "      <td>...</td>\n",
       "      <td>3</td>\n",
       "      <td>0</td>\n",
       "      <td>0</td>\n",
       "      <td>0</td>\n",
       "      <td>1</td>\n",
       "      <td>0</td>\n",
       "      <td>0</td>\n",
       "      <td>0</td>\n",
       "      <td>0</td>\n",
       "      <td>0</td>\n",
       "    </tr>\n",
       "    <tr>\n",
       "      <th>2</th>\n",
       "      <td>0</td>\n",
       "      <td>0</td>\n",
       "      <td>9.84</td>\n",
       "      <td>14.395</td>\n",
       "      <td>75</td>\n",
       "      <td>0</td>\n",
       "      <td>0</td>\n",
       "      <td>1</td>\n",
       "      <td>1</td>\n",
       "      <td>2011</td>\n",
       "      <td>...</td>\n",
       "      <td>4</td>\n",
       "      <td>13</td>\n",
       "      <td>0</td>\n",
       "      <td>0</td>\n",
       "      <td>1</td>\n",
       "      <td>0</td>\n",
       "      <td>0</td>\n",
       "      <td>0</td>\n",
       "      <td>0</td>\n",
       "      <td>0</td>\n",
       "    </tr>\n",
       "    <tr>\n",
       "      <th>3</th>\n",
       "      <td>0</td>\n",
       "      <td>0</td>\n",
       "      <td>9.84</td>\n",
       "      <td>12.88</td>\n",
       "      <td>75</td>\n",
       "      <td>6.0032</td>\n",
       "      <td>0</td>\n",
       "      <td>1</td>\n",
       "      <td>1</td>\n",
       "      <td>2011</td>\n",
       "      <td>...</td>\n",
       "      <td>5</td>\n",
       "      <td>1</td>\n",
       "      <td>0</td>\n",
       "      <td>0</td>\n",
       "      <td>1</td>\n",
       "      <td>0</td>\n",
       "      <td>0</td>\n",
       "      <td>1</td>\n",
       "      <td>0</td>\n",
       "      <td>0</td>\n",
       "    </tr>\n",
       "    <tr>\n",
       "      <th>4</th>\n",
       "      <td>0</td>\n",
       "      <td>0</td>\n",
       "      <td>9.02</td>\n",
       "      <td>13.635</td>\n",
       "      <td>80</td>\n",
       "      <td>0</td>\n",
       "      <td>2</td>\n",
       "      <td>0</td>\n",
       "      <td>2</td>\n",
       "      <td>2011</td>\n",
       "      <td>...</td>\n",
       "      <td>6</td>\n",
       "      <td>1</td>\n",
       "      <td>0</td>\n",
       "      <td>0</td>\n",
       "      <td>1</td>\n",
       "      <td>0</td>\n",
       "      <td>0</td>\n",
       "      <td>0</td>\n",
       "      <td>0</td>\n",
       "      <td>0</td>\n",
       "    </tr>\n",
       "  </tbody>\n",
       "</table>\n",
       "<p>5 rows × 22 columns</p>\n",
       "</div>"
      ],
      "text/plain": [
       "  holiday workingday  temp   atemp humidity windspeed casual registered count  \\\n",
       "0       0          0  9.02  13.635       80         0      5         27    32   \n",
       "1       0          0  9.84  14.395       75         0      3         10    13   \n",
       "2       0          0  9.84  14.395       75         0      0          1     1   \n",
       "3       0          0  9.84   12.88       75    6.0032      0          1     1   \n",
       "4       0          0  9.02  13.635       80         0      2          0     2   \n",
       "\n",
       "   year      ...       hour  past_hour  before_work during_work  winter  \\\n",
       "0  2011      ...          2          0            0           0       1   \n",
       "1  2011      ...          3          0            0           0       1   \n",
       "2  2011      ...          4         13            0           0       1   \n",
       "3  2011      ...          5          1            0           0       1   \n",
       "4  2011      ...          6          1            0           0       1   \n",
       "\n",
       "   summer  autumn  misty  light_precip  heavy_precip  \n",
       "0       0       0      0             0             0  \n",
       "1       0       0      0             0             0  \n",
       "2       0       0      0             0             0  \n",
       "3       0       0      1             0             0  \n",
       "4       0       0      0             0             0  \n",
       "\n",
       "[5 rows x 22 columns]"
      ]
     },
     "execution_count": 92,
     "metadata": {},
     "output_type": "execute_result"
    }
   ],
   "source": [
    "train_data.head(5)"
   ]
  },
  {
   "cell_type": "code",
   "execution_count": 93,
   "metadata": {
    "collapsed": true
   },
   "outputs": [],
   "source": [
    "#Splitting Columns into Prediction and Numerical vs Categorical\n",
    "All_Columns = list(train_data.columns.values)\n",
    "Prediction_Columns = All_Columns[:]\n",
    "Prediction_Columns.remove('registered')\n",
    "Prediction_Columns.remove('casual')\n",
    "Prediction_Columns.remove('count')\n",
    "Numerical_Predictors = Prediction_Columns[0:10 or None]\n",
    "Categorical_Predictors = Prediction_Columns[11:-0 or None]\n",
    "\n",
    "##Removing Time based factors\n",
    "Standard_Prediction_Columns = Prediction_Columns[:]\n",
    "Standard_Prediction_Columns.remove('hour')\n",
    "Standard_Prediction_Columns.remove('day')\n",
    "Standard_Prediction_Columns.remove('month')\n",
    "Standard_Prediction_Columns.remove('year')"
   ]
  },
  {
   "cell_type": "code",
   "execution_count": 94,
   "metadata": {
    "collapsed": true
   },
   "outputs": [],
   "source": [
    "#train, dev, test split of base data\n",
    "def data_split(data,train_percent,dev_percent,is_random):\n",
    "    size_of_data=len(data)\n",
    "    train_amount=int(round(train_percent*size_of_data))\n",
    "    dev_amount=int(round(dev_percent*size_of_data))\n",
    "    train, dev, test = np.split(data.sample(frac=1), [train_amount, train_amount+dev_amount])\n",
    "    return train,dev,test\n"
   ]
  },
  {
   "cell_type": "code",
   "execution_count": 95,
   "metadata": {
    "collapsed": true
   },
   "outputs": [],
   "source": [
    "[train_set,dev_set,test_set]=data_split(train_data,.8,0.0,1)"
   ]
  },
  {
   "cell_type": "code",
   "execution_count": 96,
   "metadata": {
    "collapsed": true
   },
   "outputs": [],
   "source": [
    "##Function to determine model fit quality\n",
    "def fit_evaluation(actual,predicted):\n",
    "    intval = 0.0\n",
    "    amount = len(predicted)\n",
    "    for i in range(len(predicted)):\n",
    "        intval+=(math.log(float(predicted[i])+1.0)-math.log(float(actual[i])+1.0))**2\n",
    "    val = (1/float(amount)*intval)**.5\n",
    "    return val"
   ]
  },
  {
   "cell_type": "code",
   "execution_count": 97,
   "metadata": {
    "collapsed": true
   },
   "outputs": [],
   "source": [
    "##Convert that function into a modified scorer\n",
    "from sklearn.metrics import fbeta_score,make_scorer\n",
    "from sklearn.dummy import DummyClassifier\n",
    "\n",
    "log_score = make_scorer(fit_evaluation,greater_is_better=False)"
   ]
  },
  {
   "cell_type": "code",
   "execution_count": 98,
   "metadata": {},
   "outputs": [
    {
     "name": "stdout",
     "output_type": "stream",
     "text": [
      "0.718927415912\n"
     ]
    },
    {
     "data": {
      "text/plain": [
       "(0, 1000)"
      ]
     },
     "execution_count": 98,
     "metadata": {},
     "output_type": "execute_result"
    },
    {
     "data": {
      "image/png": "[encoded data removed]",
      "text/plain": [
       "<matplotlib.figure.Figure at 0x127aa940>"
      ]
     },
     "metadata": {},
     "output_type": "display_data"
    }
   ],
   "source": [
    "#Basic Linear Regression\n",
    "LinearReg = LinearRegression()\n",
    "LinearReg.fit(train_set[Prediction_Columns], train_set['count'])\n",
    "print LinearReg.score(test_set[Prediction_Columns], test_set['count'])\n",
    "\n",
    "predicted = LinearReg.predict(test_set[Prediction_Columns])\n",
    "\n",
    "plt.scatter(predicted,test_set['count'].values)\n",
    "plt.xlim(0,1000)\n",
    "plt.ylim(0,1000)\n",
    "##print fit_evaluation(test_set['count'].values,predicted)"
   ]
  },
  {
   "cell_type": "code",
   "execution_count": 99,
   "metadata": {},
   "outputs": [
    {
     "name": "stdout",
     "output_type": "stream",
     "text": [
      "0.712627324257\n"
     ]
    },
    {
     "data": {
      "image/png": "[encoded data removed]",
      "text/plain": [
       "<matplotlib.figure.Figure at 0x1346cdd8>"
      ]
     },
     "metadata": {},
     "output_type": "display_data"
    }
   ],
   "source": [
    "#Multinomial Naive Bayes\n",
    "MultiBayes = MultinomialNB()\n",
    "MultiBayes.fit(train_set[Prediction_Columns], train_set['count'])\n",
    "\n",
    "predicted = MultiBayes.predict(test_set[Prediction_Columns])\n",
    "\n",
    "plt.scatter(predicted,test_set['count'].values)\n",
    "plt.xlim(0,1000)\n",
    "plt.ylim(0,1000)\n",
    "print fit_evaluation(test_set['count'].values,predicted)"
   ]
  },
  {
   "cell_type": "code",
   "execution_count": 100,
   "metadata": {},
   "outputs": [
    {
     "name": "stdout",
     "output_type": "stream",
     "text": [
      "0.376607113922\n"
     ]
    },
    {
     "data": {
      "image/png": "[encoded data removed]",
      "text/plain": [
       "<matplotlib.figure.Figure at 0x12c12908>"
      ]
     },
     "metadata": {},
     "output_type": "display_data"
    }
   ],
   "source": [
    "#Decision Trees\n",
    "DTree = tree.DecisionTreeRegressor()\n",
    "DTree.fit(train_set[Prediction_Columns], train_set['count'])\n",
    "\n",
    "predicted = DTree.predict(test_set[Prediction_Columns])\n",
    "\n",
    "plt.scatter(predicted,test_set['count'].values)\n",
    "plt.xlim(0,1000)\n",
    "plt.ylim(0,1000)\n",
    "print fit_evaluation(test_set['count'].values,predicted)"
   ]
  },
  {
   "cell_type": "code",
   "execution_count": 103,
   "metadata": {
    "collapsed": true
   },
   "outputs": [],
   "source": [
    "param_grid = {'max_depth':range(1,20),'max_features':range(1,20)}\n",
    "PTree = tree.DecisionTreeRegressor()\n",
    "param_search = GridSearchCV(PTree,param_grid,cv=7,scoring=log_score)\n",
    "param_search.fit(train_set[Prediction_Columns].values, train_set['count'].values)\n",
    "predicted = param_search.predict(train_set[Prediction_Columns])"
   ]
  },
  {
   "cell_type": "code",
   "execution_count": 104,
   "metadata": {},
   "outputs": [
    {
     "name": "stdout",
     "output_type": "stream",
     "text": [
      "{'max_features': 18, 'max_depth': 10}\n",
      "0.332076828349\n"
     ]
    },
    {
     "data": {
      "image/png": "[encoded data removed]",
      "text/plain": [
       "<matplotlib.figure.Figure at 0x13a87240>"
      ]
     },
     "metadata": {},
     "output_type": "display_data"
    }
   ],
   "source": [
    "print param_search.best_params_\n",
    "predicted = param_search.predict(test_set[Prediction_Columns])\n",
    "\n",
    "plt.scatter(predicted,test_set['count'].values)\n",
    "plt.xlim(0,1000)\n",
    "plt.ylim(0,1000)\n",
    "print fit_evaluation(test_set['count'].values,predicted)"
   ]
  }
 ],
 "metadata": {
  "anaconda-cloud": {},
  "kernelspec": {
   "display_name": "Python 2",
   "language": "python",
   "name": "python2"
  },
  "language_info": {
   "codemirror_mode": {
    "name": "ipython",
    "version": 2
   },
   "file_extension": ".py",
   "mimetype": "text/x-python",
   "name": "python",
   "nbconvert_exporter": "python",
   "pygments_lexer": "ipython2",
   "version": "2.7.13"
  }
 },
 "nbformat": 4,
 "nbformat_minor": 1
}
