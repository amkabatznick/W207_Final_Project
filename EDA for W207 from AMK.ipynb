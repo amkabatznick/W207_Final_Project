{
 "cells": [
  {
   "cell_type": "code",
   "execution_count": 1,
   "metadata": {
    "_cell_guid": "d8ba238c-c233-45c0-a848-4065c481f95e",
    "_uuid": "e49e5ede1f1b670d8324f5584b842b1418fbb430",
    "collapsed": true,
    "scrolled": true
   },
   "outputs": [],
   "source": [
    "# This Python 3 environment comes with many helpful analytics libraries installed\n",
    "# It is defined by the kaggle/python docker image: https://github.com/kaggle/docker-python\n",
    "# For example, here's several helpful packages to load in \n",
    "import numpy as np # linear algebra\n",
    "import pandas as pd # data processing, CSV file I/O (e.g. pd.read_csv)\n",
    "from datetime import datetime\n",
    "import seaborn as sn\n",
    "import matplotlib.pyplot as plt\n",
    "# Input data files are available in the \"../input/\" directory.\n",
    "# For example, running this (by clicking run or pressing Shift+Enter) will list the files in the input directory\n",
    "\n",
    "from subprocess import check_output\n",
    "\n",
    "#print(check_output([\"ls\", \"../input\"]).decode(\"utf8\"))\n",
    "\n",
    "%matplotlib inline\n",
    "# Any results you write to the current directory are saved as output."
   ]
  },
  {
   "cell_type": "markdown",
   "metadata": {
    "_cell_guid": "931ce017-7787-408a-a6ed-cc090604b1b7",
    "_uuid": "a9870ab69188daa2a1632a323984cfc08d2b4103"
   },
   "source": [
    "**Load Dataset**"
   ]
  },
  {
   "cell_type": "code",
   "execution_count": 2,
   "metadata": {
    "_cell_guid": "d08b1788-8553-46a0-87f2-4555e07966bd",
    "_uuid": "6a18267131afedd7bba8427284b6dcb46690fb17",
    "collapsed": true,
    "scrolled": true
   },
   "outputs": [],
   "source": [
    "#BikeData = pd.read_csv(\"../input/train.csv\")\n",
    "BikeData = pd.read_csv(\"./train.csv\")"
   ]
  },
  {
   "cell_type": "markdown",
   "metadata": {
    "_cell_guid": "f1b8697b-46f2-4d78-822c-030f4c2d2f38",
    "_uuid": "7cc43c65a2249580bd6ccb79e60fe4ef55c48f18"
   },
   "source": [
    "**Exploratory Data Analysis**"
   ]
  },
  {
   "cell_type": "code",
   "execution_count": 3,
   "metadata": {
    "_cell_guid": "dd871701-df66-48f7-8781-1a01c48330d6",
    "_uuid": "9f804df466eb76ef86e84688567fb3edeb5f9f9a",
    "scrolled": true
   },
   "outputs": [
    {
     "data": {
      "text/plain": [
       "(10886, 12)"
      ]
     },
     "execution_count": 3,
     "metadata": {},
     "output_type": "execute_result"
    }
   ],
   "source": [
    "BikeData.shape"
   ]
  },
  {
   "cell_type": "markdown",
   "metadata": {
    "_cell_guid": "f939e9d4-0193-4a95-b030-6a4053457273",
    "_uuid": "c73257bd04ea0ad6158837685acafbcf04ca89d1"
   },
   "source": [
    "**Data Types of the Variables**"
   ]
  },
  {
   "cell_type": "code",
   "execution_count": 4,
   "metadata": {
    "_cell_guid": "565587cf-57c7-462d-a6e0-5f2ab7fe4e01",
    "_uuid": "84fb8e5c7f1c1e9a848769eab15fa1edeaa2a73b",
    "scrolled": true
   },
   "outputs": [
    {
     "data": {
      "text/plain": [
       "datetime       object\n",
       "season          int64\n",
       "holiday         int64\n",
       "workingday      int64\n",
       "weather         int64\n",
       "temp          float64\n",
       "atemp         float64\n",
       "humidity        int64\n",
       "windspeed     float64\n",
       "casual          int64\n",
       "registered      int64\n",
       "count           int64\n",
       "dtype: object"
      ]
     },
     "execution_count": 4,
     "metadata": {},
     "output_type": "execute_result"
    }
   ],
   "source": [
    "BikeData.dtypes"
   ]
  },
  {
   "cell_type": "markdown",
   "metadata": {},
   "source": [
    "### Extacts the time features from the datetime for more robust analysis"
   ]
  },
  {
   "cell_type": "code",
   "execution_count": 5,
   "metadata": {
    "_cell_guid": "1b8948ba-010b-481c-977c-956e02e82c96",
    "_uuid": "9e539b0ba25192bbdeb52d04a1ca41edc266c728",
    "collapsed": true,
    "scrolled": true
   },
   "outputs": [],
   "source": [
    "#Convert BikeData.datetime to datetime\n",
    "BikeData.datetime = pd.to_datetime(BikeData.datetime)\n",
    "#Extract Month\n",
    "BikeData['month'] = BikeData.datetime.dt.month\n",
    "#Extract Hour\n",
    "BikeData['hour'] = BikeData.datetime.dt.hour"
   ]
  },
  {
   "cell_type": "markdown",
   "metadata": {},
   "source": [
    "### Defines the categorical variables as categorical variables and then displays the datatypes to confirm the data definitions"
   ]
  },
  {
   "cell_type": "code",
   "execution_count": 6,
   "metadata": {
    "_cell_guid": "254fb8e4-d308-4ace-95dd-8848527c8135",
    "_uuid": "6a18914877f96847aba03cfe906ab5e45e42694b",
    "scrolled": true
   },
   "outputs": [
    {
     "data": {
      "text/plain": [
       "datetime      datetime64[ns]\n",
       "season              category\n",
       "holiday             category\n",
       "workingday          category\n",
       "weather             category\n",
       "temp                 float64\n",
       "atemp                float64\n",
       "humidity               int64\n",
       "windspeed            float64\n",
       "casual                 int64\n",
       "registered             int64\n",
       "count                  int64\n",
       "month               category\n",
       "hour                category\n",
       "dtype: object"
      ]
     },
     "execution_count": 6,
     "metadata": {},
     "output_type": "execute_result"
    }
   ],
   "source": [
    "categoryVariableList = [\"hour\",\"month\",\"season\",\"weather\",\"holiday\",\"workingday\"]\n",
    "for var in categoryVariableList:\n",
    "    BikeData[var] = BikeData[var].astype(\"category\")\n",
    "BikeData.dtypes"
   ]
  },
  {
   "cell_type": "markdown",
   "metadata": {
    "_cell_guid": "a566effc-beac-4afc-b4ba-0765bbe554a0",
    "_uuid": "1abd3efed1b6295ab5ab3918456099f4610489c1"
   },
   "source": [
    "# Plots of Weather Condition, Season, Month, and Day Type by User Type by Time"
   ]
  },
  {
   "cell_type": "code",
   "execution_count": 7,
   "metadata": {
    "collapsed": true
   },
   "outputs": [],
   "source": [
    "#Defines Dictionaries to Help Convert our data into Human Readable Labels\n",
    "WeatherTypes = {\n",
    "                1: 'No Precipitation',\n",
    "                2: 'Light Precipitation',\n",
    "                3: 'Medium Precipitation',\n",
    "                4: 'Heavy Precipitation'\n",
    "            }\n",
    "\n",
    "Season = {\n",
    " 1: 'Winter',\n",
    " 2: 'Spring', \n",
    " 3: 'Summer', \n",
    " 4: 'Fall', \n",
    "}\n",
    "\n",
    "WorkingDay = {\n",
    "    0:'Non-Business Day',\n",
    "    1:'Business Day'  \n",
    "}\n",
    "\n",
    "#Builds Help Functions for Plotting our data\n",
    "def transform_data(TempBikeData,UserType=\"All\"):\n",
    "    #Makes a copy of the Dataframe so that our deletes don't happen on the underlying dataframe\n",
    "    TempBikeData = TempBikeData.copy()\n",
    "    #If the UserType is Casual then our analysis will be only on the Casual Users\n",
    "    if UserType == 'Casual':\n",
    "        TempBikeData.loc[:,'count'] = TempBikeData['casual']\n",
    "    #If the UserType is Registered then we only look at the Registered Users\n",
    "    elif UserType == 'Registered':\n",
    "        TempBikeData.loc[:,'count'] = TempBikeData['registered']\n",
    "    #Delete unnecassary variables\n",
    "    del TempBikeData['casual']\n",
    "    del TempBikeData['registered']\n",
    "    \n",
    "    #Find Average number of riders by month\n",
    "    MonthAggregated = pd.DataFrame(TempBikeData.groupby(\"month\")[\"count\"].mean()).reset_index()\n",
    "    #Label the Month in the MMM format\n",
    "    MonthAggregated.month = MonthAggregated.month.apply(lambda x: calendar.month_abbr[x])\n",
    "    \n",
    "    #Find average number of riders by Season\n",
    "    SeasonAggregated = pd.DataFrame(TempBikeData.groupby([\"hour\",\"season\"],sort=True)[\"count\"].mean()).reset_index()\n",
    "    #Label the Season. Note the label's here: https://www.kaggle.com/c/bike-sharing-demand/data are incorrect.\n",
    "    SeasonAggregated.season = SeasonAggregated.season.apply(lambda x: Season[x])\n",
    "    \n",
    "    #Find the average number of riders for workingdays vs. non-working days\n",
    "    WorkDayAggregated = pd.DataFrame(TempBikeData.groupby([\"hour\",\"workingday\"],sort=True)[\"count\"].mean()).reset_index()\n",
    "    #Label's the binary variable as text\n",
    "    WorkDayAggregated.workingday = WorkDayAggregated.workingday.apply(lambda x: WorkingDay[x])\n",
    "    \n",
    "    #Find the average number of riders by weather\n",
    "    WeatherAggregated = pd.DataFrame(TempBikeData.groupby([\"hour\",\"weather\"],sort=True)[\"count\"].mean()).reset_index()\n",
    "    #Converts this into a more readable format\n",
    "    WeatherAggregated.weather = WeatherAggregated.weather.apply(lambda x: WeatherTypes[x])\n",
    "\n",
    "    return MonthAggregated, SeasonAggregated, WorkDayAggregated, WeatherAggregated\n",
    "    \n",
    "def data_plots(i,user_type,MonthAggregated,SeasonAggregated,WorkDayAggregated,WeatherAggregated):\n",
    "    #Defines the subplot, we will be plotting to\n",
    "    ax = plt.subplot(3,4, i*4+1)\n",
    "    #Plots the Month Data and Labels it\n",
    "    _ =sn.barplot(data=MonthAggregated,x=\"month\",y=\"count\",ax=ax)\n",
    "    _ = ax.set(xlabel='Month', ylabel='Average User Count')\n",
    "    ax.set_title(\"Average {} User Count By Month\".format(user_type),fontsize=20)\n",
    "    \n",
    "    #Plots the Season Data\n",
    "    ax = plt.subplot(3,4, i*4+2)\n",
    "    _ = sn.pointplot(x=SeasonAggregated[\"hour\"], y=SeasonAggregated[\"count\"],hue=SeasonAggregated[\"season\"], \n",
    "                     data=SeasonAggregated, join=True,ax=ax)\n",
    "    _ = ax.set(xlabel='Hour Of The Day', ylabel='Users Count',label='big')\n",
    "    ax.set_title(\"Average {} User Count by Hour by Season\".format(user_type),fontsize=20)\n",
    "    \n",
    "    #Plots the Work Day Data\n",
    "    ax = plt.subplot(3,4, i*4+3)\n",
    "    _ = sn.pointplot(x=WorkDayAggregated[\"hour\"], y=WorkDayAggregated[\"count\"],\n",
    "                     hue=WorkDayAggregated[\"workingday\"], data=hourAggregated, join=True,ax=ax)\n",
    "    _ = ax.set(xlabel='Hour Of The Day', ylabel='Users Count',label='big')\n",
    "    ax.set_title(\"Average {} User Count by Hour for \\n Workdays vs. Non Work Days\".format(user_type),fontsize=20)\n",
    "    \n",
    "    #Plots the Weather Data\n",
    "    ax = plt.subplot(3,4, i*4+4)\n",
    "    _ = sn.pointplot(x=WeatherAggregated[\"hour\"], y=WeatherAggregated[\"count\"],\n",
    "                     hue=WeatherAggregated[\"weather\"], data=WeatherAggregated, join=True,ax=ax)\n",
    "    _ = ax.set(xlabel='Hour Of The Day', ylabel='Users Count',label='big')\n",
    "    ax.set_title(\"Average {} User Count by Hour by Weather\".format(user_type),fontsize=20)\n",
    " "
   ]
  },
  {
   "cell_type": "markdown",
   "metadata": {},
   "source": [
    "## Basic EDA by Month, Workday, Season, and Weather\n",
    "====================================================================="
   ]
  },
  {
   "cell_type": "markdown",
   "metadata": {},
   "source": [
    "As we can see based on the plots below there are significant differences in the behavior of casual users compared with the behaviour of registered users. Given these differences, it makes sense to build two generative models, one for causal users and one for registered users. Once we have built these predictions we can then add these two outputs together to help determine our total count."
   ]
  },
  {
   "cell_type": "code",
   "execution_count": 8,
   "metadata": {},
   "outputs": [
    {
     "ename": "NameError",
     "evalue": "global name 'calendar' is not defined",
     "output_type": "error",
     "traceback": [
      "\u001b[0;31m---------------------------------------------------------------------------\u001b[0m",
      "\u001b[0;31mNameError\u001b[0m                                 Traceback (most recent call last)",
      "\u001b[0;32m<ipython-input-8-e065622fef05>\u001b[0m in \u001b[0;36m<module>\u001b[0;34m()\u001b[0m\n\u001b[1;32m      4\u001b[0m \u001b[0;32mfor\u001b[0m \u001b[0mi\u001b[0m\u001b[0;34m,\u001b[0m\u001b[0mUType\u001b[0m \u001b[0;32min\u001b[0m \u001b[0menumerate\u001b[0m\u001b[0;34m(\u001b[0m\u001b[0mUserTypes\u001b[0m\u001b[0;34m)\u001b[0m\u001b[0;34m:\u001b[0m\u001b[0;34m\u001b[0m\u001b[0m\n\u001b[1;32m      5\u001b[0m     \u001b[0;31m#Calls the functions defined above to plot the basic data\u001b[0m\u001b[0;34m\u001b[0m\u001b[0;34m\u001b[0m\u001b[0m\n\u001b[0;32m----> 6\u001b[0;31m     \u001b[0mMonthAggregated\u001b[0m\u001b[0;34m,\u001b[0m \u001b[0mSeasonAggregated\u001b[0m\u001b[0;34m,\u001b[0m \u001b[0mWorkDayAggregated\u001b[0m\u001b[0;34m,\u001b[0m \u001b[0mWeatherAggregated\u001b[0m \u001b[0;34m=\u001b[0m \u001b[0mtransform_data\u001b[0m\u001b[0;34m(\u001b[0m\u001b[0mBikeData\u001b[0m\u001b[0;34m,\u001b[0m\u001b[0mUType\u001b[0m\u001b[0;34m)\u001b[0m\u001b[0;34m\u001b[0m\u001b[0m\n\u001b[0m\u001b[1;32m      7\u001b[0m     \u001b[0mdata_plots\u001b[0m\u001b[0;34m(\u001b[0m\u001b[0mi\u001b[0m\u001b[0;34m,\u001b[0m\u001b[0mUType\u001b[0m\u001b[0;34m,\u001b[0m\u001b[0mMonthAggregated\u001b[0m\u001b[0;34m,\u001b[0m\u001b[0mSeasonAggregated\u001b[0m\u001b[0;34m,\u001b[0m\u001b[0mWorkDayAggregated\u001b[0m\u001b[0;34m,\u001b[0m\u001b[0mWeatherAggregated\u001b[0m\u001b[0;34m)\u001b[0m\u001b[0;34m\u001b[0m\u001b[0m\n\u001b[1;32m      8\u001b[0m \u001b[0mplt\u001b[0m\u001b[0;34m.\u001b[0m\u001b[0mtight_layout\u001b[0m\u001b[0;34m(\u001b[0m\u001b[0;34m)\u001b[0m\u001b[0;34m\u001b[0m\u001b[0m\n",
      "\u001b[0;32m<ipython-input-7-ed4eb250f82f>\u001b[0m in \u001b[0;36mtransform_data\u001b[0;34m(TempBikeData, UserType)\u001b[0m\n\u001b[1;32m     36\u001b[0m     \u001b[0mMonthAggregated\u001b[0m \u001b[0;34m=\u001b[0m \u001b[0mpd\u001b[0m\u001b[0;34m.\u001b[0m\u001b[0mDataFrame\u001b[0m\u001b[0;34m(\u001b[0m\u001b[0mTempBikeData\u001b[0m\u001b[0;34m.\u001b[0m\u001b[0mgroupby\u001b[0m\u001b[0;34m(\u001b[0m\u001b[0;34m\"month\"\u001b[0m\u001b[0;34m)\u001b[0m\u001b[0;34m[\u001b[0m\u001b[0;34m\"count\"\u001b[0m\u001b[0;34m]\u001b[0m\u001b[0;34m.\u001b[0m\u001b[0mmean\u001b[0m\u001b[0;34m(\u001b[0m\u001b[0;34m)\u001b[0m\u001b[0;34m)\u001b[0m\u001b[0;34m.\u001b[0m\u001b[0mreset_index\u001b[0m\u001b[0;34m(\u001b[0m\u001b[0;34m)\u001b[0m\u001b[0;34m\u001b[0m\u001b[0m\n\u001b[1;32m     37\u001b[0m     \u001b[0;31m#Label the Month in the MMM format\u001b[0m\u001b[0;34m\u001b[0m\u001b[0;34m\u001b[0m\u001b[0m\n\u001b[0;32m---> 38\u001b[0;31m     \u001b[0mMonthAggregated\u001b[0m\u001b[0;34m.\u001b[0m\u001b[0mmonth\u001b[0m \u001b[0;34m=\u001b[0m \u001b[0mMonthAggregated\u001b[0m\u001b[0;34m.\u001b[0m\u001b[0mmonth\u001b[0m\u001b[0;34m.\u001b[0m\u001b[0mapply\u001b[0m\u001b[0;34m(\u001b[0m\u001b[0;32mlambda\u001b[0m \u001b[0mx\u001b[0m\u001b[0;34m:\u001b[0m \u001b[0mcalendar\u001b[0m\u001b[0;34m.\u001b[0m\u001b[0mmonth_abbr\u001b[0m\u001b[0;34m[\u001b[0m\u001b[0mx\u001b[0m\u001b[0;34m]\u001b[0m\u001b[0;34m)\u001b[0m\u001b[0;34m\u001b[0m\u001b[0m\n\u001b[0m\u001b[1;32m     39\u001b[0m \u001b[0;34m\u001b[0m\u001b[0m\n\u001b[1;32m     40\u001b[0m     \u001b[0;31m#Find average number of riders by Season\u001b[0m\u001b[0;34m\u001b[0m\u001b[0;34m\u001b[0m\u001b[0m\n",
      "\u001b[0;32m/Users/nic0lek/anaconda/lib/python2.7/site-packages/pandas/core/series.pyc\u001b[0m in \u001b[0;36mapply\u001b[0;34m(self, func, convert_dtype, args, **kwds)\u001b[0m\n\u001b[1;32m   2350\u001b[0m             \u001b[0;31m# row-wise access\u001b[0m\u001b[0;34m\u001b[0m\u001b[0;34m\u001b[0m\u001b[0m\n\u001b[1;32m   2351\u001b[0m             \u001b[0;32mif\u001b[0m \u001b[0mis_extension_type\u001b[0m\u001b[0;34m(\u001b[0m\u001b[0mself\u001b[0m\u001b[0;34m.\u001b[0m\u001b[0mdtype\u001b[0m\u001b[0;34m)\u001b[0m\u001b[0;34m:\u001b[0m\u001b[0;34m\u001b[0m\u001b[0m\n\u001b[0;32m-> 2352\u001b[0;31m                 \u001b[0mmapped\u001b[0m \u001b[0;34m=\u001b[0m \u001b[0mself\u001b[0m\u001b[0;34m.\u001b[0m\u001b[0m_values\u001b[0m\u001b[0;34m.\u001b[0m\u001b[0mmap\u001b[0m\u001b[0;34m(\u001b[0m\u001b[0mf\u001b[0m\u001b[0;34m)\u001b[0m\u001b[0;34m\u001b[0m\u001b[0m\n\u001b[0m\u001b[1;32m   2353\u001b[0m             \u001b[0;32melse\u001b[0m\u001b[0;34m:\u001b[0m\u001b[0;34m\u001b[0m\u001b[0m\n\u001b[1;32m   2354\u001b[0m                 \u001b[0mvalues\u001b[0m \u001b[0;34m=\u001b[0m \u001b[0mself\u001b[0m\u001b[0;34m.\u001b[0m\u001b[0masobject\u001b[0m\u001b[0;34m\u001b[0m\u001b[0m\n",
      "\u001b[0;32m/Users/nic0lek/anaconda/lib/python2.7/site-packages/pandas/core/categorical.pyc\u001b[0m in \u001b[0;36mmap\u001b[0;34m(self, mapper)\u001b[0m\n\u001b[1;32m    999\u001b[0m \u001b[0;34m\u001b[0m\u001b[0m\n\u001b[1;32m   1000\u001b[0m         \"\"\"\n\u001b[0;32m-> 1001\u001b[0;31m         \u001b[0mnew_categories\u001b[0m \u001b[0;34m=\u001b[0m \u001b[0mself\u001b[0m\u001b[0;34m.\u001b[0m\u001b[0mcategories\u001b[0m\u001b[0;34m.\u001b[0m\u001b[0mmap\u001b[0m\u001b[0;34m(\u001b[0m\u001b[0mmapper\u001b[0m\u001b[0;34m)\u001b[0m\u001b[0;34m\u001b[0m\u001b[0m\n\u001b[0m\u001b[1;32m   1002\u001b[0m         \u001b[0;32mtry\u001b[0m\u001b[0;34m:\u001b[0m\u001b[0;34m\u001b[0m\u001b[0m\n\u001b[1;32m   1003\u001b[0m             return self.from_codes(self._codes.copy(),\n",
      "\u001b[0;32m/Users/nic0lek/anaconda/lib/python2.7/site-packages/pandas/core/indexes/base.pyc\u001b[0m in \u001b[0;36mmap\u001b[0;34m(self, mapper)\u001b[0m\n\u001b[1;32m   2774\u001b[0m         \"\"\"\n\u001b[1;32m   2775\u001b[0m         \u001b[0;32mfrom\u001b[0m \u001b[0;34m.\u001b[0m\u001b[0mmulti\u001b[0m \u001b[0;32mimport\u001b[0m \u001b[0mMultiIndex\u001b[0m\u001b[0;34m\u001b[0m\u001b[0m\n\u001b[0;32m-> 2776\u001b[0;31m         \u001b[0mmapped_values\u001b[0m \u001b[0;34m=\u001b[0m \u001b[0mself\u001b[0m\u001b[0;34m.\u001b[0m\u001b[0m_arrmap\u001b[0m\u001b[0;34m(\u001b[0m\u001b[0mself\u001b[0m\u001b[0;34m.\u001b[0m\u001b[0mvalues\u001b[0m\u001b[0;34m,\u001b[0m \u001b[0mmapper\u001b[0m\u001b[0;34m)\u001b[0m\u001b[0;34m\u001b[0m\u001b[0m\n\u001b[0m\u001b[1;32m   2777\u001b[0m         \u001b[0mattributes\u001b[0m \u001b[0;34m=\u001b[0m \u001b[0mself\u001b[0m\u001b[0;34m.\u001b[0m\u001b[0m_get_attributes_dict\u001b[0m\u001b[0;34m(\u001b[0m\u001b[0;34m)\u001b[0m\u001b[0;34m\u001b[0m\u001b[0m\n\u001b[1;32m   2778\u001b[0m         \u001b[0;32mif\u001b[0m \u001b[0mmapped_values\u001b[0m\u001b[0;34m.\u001b[0m\u001b[0msize\u001b[0m \u001b[0;32mand\u001b[0m \u001b[0misinstance\u001b[0m\u001b[0;34m(\u001b[0m\u001b[0mmapped_values\u001b[0m\u001b[0;34m[\u001b[0m\u001b[0;36m0\u001b[0m\u001b[0;34m]\u001b[0m\u001b[0;34m,\u001b[0m \u001b[0mtuple\u001b[0m\u001b[0;34m)\u001b[0m\u001b[0;34m:\u001b[0m\u001b[0;34m\u001b[0m\u001b[0m\n",
      "\u001b[0;32mpandas/_libs/algos_common_helper.pxi\u001b[0m in \u001b[0;36mpandas._libs.algos.arrmap_int64 (pandas/_libs/algos.c:41758)\u001b[0;34m()\u001b[0m\n",
      "\u001b[0;32m<ipython-input-7-ed4eb250f82f>\u001b[0m in \u001b[0;36m<lambda>\u001b[0;34m(x)\u001b[0m\n\u001b[1;32m     36\u001b[0m     \u001b[0mMonthAggregated\u001b[0m \u001b[0;34m=\u001b[0m \u001b[0mpd\u001b[0m\u001b[0;34m.\u001b[0m\u001b[0mDataFrame\u001b[0m\u001b[0;34m(\u001b[0m\u001b[0mTempBikeData\u001b[0m\u001b[0;34m.\u001b[0m\u001b[0mgroupby\u001b[0m\u001b[0;34m(\u001b[0m\u001b[0;34m\"month\"\u001b[0m\u001b[0;34m)\u001b[0m\u001b[0;34m[\u001b[0m\u001b[0;34m\"count\"\u001b[0m\u001b[0;34m]\u001b[0m\u001b[0;34m.\u001b[0m\u001b[0mmean\u001b[0m\u001b[0;34m(\u001b[0m\u001b[0;34m)\u001b[0m\u001b[0;34m)\u001b[0m\u001b[0;34m.\u001b[0m\u001b[0mreset_index\u001b[0m\u001b[0;34m(\u001b[0m\u001b[0;34m)\u001b[0m\u001b[0;34m\u001b[0m\u001b[0m\n\u001b[1;32m     37\u001b[0m     \u001b[0;31m#Label the Month in the MMM format\u001b[0m\u001b[0;34m\u001b[0m\u001b[0;34m\u001b[0m\u001b[0m\n\u001b[0;32m---> 38\u001b[0;31m     \u001b[0mMonthAggregated\u001b[0m\u001b[0;34m.\u001b[0m\u001b[0mmonth\u001b[0m \u001b[0;34m=\u001b[0m \u001b[0mMonthAggregated\u001b[0m\u001b[0;34m.\u001b[0m\u001b[0mmonth\u001b[0m\u001b[0;34m.\u001b[0m\u001b[0mapply\u001b[0m\u001b[0;34m(\u001b[0m\u001b[0;32mlambda\u001b[0m \u001b[0mx\u001b[0m\u001b[0;34m:\u001b[0m \u001b[0mcalendar\u001b[0m\u001b[0;34m.\u001b[0m\u001b[0mmonth_abbr\u001b[0m\u001b[0;34m[\u001b[0m\u001b[0mx\u001b[0m\u001b[0;34m]\u001b[0m\u001b[0;34m)\u001b[0m\u001b[0;34m\u001b[0m\u001b[0m\n\u001b[0m\u001b[1;32m     39\u001b[0m \u001b[0;34m\u001b[0m\u001b[0m\n\u001b[1;32m     40\u001b[0m     \u001b[0;31m#Find average number of riders by Season\u001b[0m\u001b[0;34m\u001b[0m\u001b[0;34m\u001b[0m\u001b[0m\n",
      "\u001b[0;31mNameError\u001b[0m: global name 'calendar' is not defined"
     ]
    },
    {
     "data": {
      "image/png": "[encoded data removed]",
      "text/plain": [
       "<matplotlib.figure.Figure at 0x10cefe190>"
      ]
     },
     "metadata": {},
     "output_type": "display_data"
    }
   ],
   "source": [
    "UserTypes = ['Total','Casual','Registered']\n",
    "ax, fig = plt.subplots(3,4,figsize=(30,20))\n",
    "\n",
    "for i,UType in enumerate(UserTypes):\n",
    "    #Calls the functions defined above to plot the basic data\n",
    "    MonthAggregated, SeasonAggregated, WorkDayAggregated, WeatherAggregated = transform_data(BikeData,UType)\n",
    "    data_plots(i,UType,MonthAggregated,SeasonAggregated,WorkDayAggregated,WeatherAggregated)\n",
    "plt.tight_layout()"
   ]
  },
  {
   "cell_type": "markdown",
   "metadata": {
    "_cell_guid": "5ed6f8fc-9817-4b73-9dba-17ff72eb8b9c",
    "_uuid": "0e8031e58609cec29e6322347a1c72ca6707c0b2"
   },
   "source": [
    "Additionally from the plots, we can see that Heavy Precipitation is very rare. Let's do some further analysis to access how many of occurences there are in our dataset."
   ]
  },
  {
   "cell_type": "code",
   "execution_count": 202,
   "metadata": {
    "_cell_guid": "a51984de-61c3-4d1d-9563-f78beb13a566",
    "_uuid": "76e3b0fdb615e6c596fb58e97f592cc7a49b1c75",
    "scrolled": true
   },
   "outputs": [
    {
     "data": {
      "text/html": [
       "<div>\n",
       "<style>\n",
       "    .dataframe thead tr:only-child th {\n",
       "        text-align: right;\n",
       "    }\n",
       "\n",
       "    .dataframe thead th {\n",
       "        text-align: left;\n",
       "    }\n",
       "\n",
       "    .dataframe tbody tr th {\n",
       "        vertical-align: top;\n",
       "    }\n",
       "</style>\n",
       "<table border=\"1\" class=\"dataframe\">\n",
       "  <thead>\n",
       "    <tr style=\"text-align: right;\">\n",
       "      <th></th>\n",
       "      <th>datetime</th>\n",
       "      <th>season</th>\n",
       "      <th>holiday</th>\n",
       "      <th>workingday</th>\n",
       "      <th>weather</th>\n",
       "      <th>temp</th>\n",
       "      <th>atemp</th>\n",
       "      <th>humidity</th>\n",
       "      <th>windspeed</th>\n",
       "      <th>casual</th>\n",
       "      <th>registered</th>\n",
       "      <th>count</th>\n",
       "      <th>month</th>\n",
       "      <th>hour</th>\n",
       "    </tr>\n",
       "  </thead>\n",
       "  <tbody>\n",
       "    <tr>\n",
       "      <th>5631</th>\n",
       "      <td>2012-01-09 18:00:00</td>\n",
       "      <td>1</td>\n",
       "      <td>0</td>\n",
       "      <td>1</td>\n",
       "      <td>4</td>\n",
       "      <td>8.2</td>\n",
       "      <td>11.365</td>\n",
       "      <td>86</td>\n",
       "      <td>6.0032</td>\n",
       "      <td>6</td>\n",
       "      <td>158</td>\n",
       "      <td>164</td>\n",
       "      <td>1</td>\n",
       "      <td>18</td>\n",
       "    </tr>\n",
       "  </tbody>\n",
       "</table>\n",
       "</div>"
      ],
      "text/plain": [
       "                datetime season holiday workingday weather  temp   atemp  \\\n",
       "5631 2012-01-09 18:00:00      1       0          1       4   8.2  11.365   \n",
       "\n",
       "      humidity  windspeed  casual  registered  count month hour  \n",
       "5631        86     6.0032       6         158    164     1   18  "
      ]
     },
     "execution_count": 202,
     "metadata": {},
     "output_type": "execute_result"
    }
   ],
   "source": [
    "BikeData[BikeData.weather==4]"
   ]
  },
  {
   "cell_type": "markdown",
   "metadata": {},
   "source": [
    "In fact after exploring further we can see that there is only one occurance where weather is equal to 4 (\"Heavy Precipitation\") in our dataset. Given one occurance is not particularly useful for building a predictive model, we must decided what to do with \"Heavy Precipitation\" occurences. We could either exclude this datapoint from our predictive model or we could combine it with the \"Medium Precipitation\" variable. We will take the approach of combining the \"Medium Precipitation\" and \"Heavy Precipitation\" into one variable which we will call \"Heavy Precipitation\", but are mindfull this may over predict riders in situations where there is \"Heavy Precipitation\"."
   ]
  },
  {
   "cell_type": "code",
   "execution_count": 208,
   "metadata": {
    "collapsed": true
   },
   "outputs": [],
   "source": [
    "def transform_weather(BikeData):\n",
    "    #Converts occurences of weather = 4 to weather = 3\n",
    "    BikeData.weather = BikeData.weather.apply(lambda x: x if x != 4 else 3)\n",
    "    return BikeData\n",
    "\n",
    "BikeData = transform_weather(BikeData)"
   ]
  },
  {
   "cell_type": "code",
   "execution_count": 218,
   "metadata": {
    "collapsed": true
   },
   "outputs": [],
   "source": [
    "#Transforms the Dataframes\n",
    "def break_out_users(BikeData):\n",
    "    Casual = BikeData.copy()\n",
    "    Registered = BikeData.copy()\n",
    "\n",
    "    del Casual['count']\n",
    "    del Casual['registered']\n",
    "\n",
    "    del Registered['count']\n",
    "    del Registered['casual']\n",
    "\n",
    "    Casual.rename(columns={'casual': 'count'}, inplace=True)\n",
    "    Registered.rename(columns={'registered': 'count'}, inplace=True)\n",
    "    return Casual, Registered\n",
    "\n",
    "Casual, Registered = break_out_users(BikeData)"
   ]
  },
  {
   "cell_type": "code",
   "execution_count": 223,
   "metadata": {
    "collapsed": true
   },
   "outputs": [],
   "source": [
    "#Still working on this\n",
    "\n",
    "#ax, fig = plt.subplots(3,4,figsize=(30,20))\n",
    "\n",
    "#Plots the Work Day Data\n",
    "#ax = plt.subplot(3,4, i*4+3)\n",
    "#_ = sn.pointplot(x=WorkDayAggregated[\"hour\"], y=WorkDayAggregated[\"count\"],\n",
    "#                 hue=WorkDayAggregated[\"workingday\"], data=hourAggregated, join=True,ax=ax)\n",
    "#_ = ax.set(xlabel='Hour Of The Day', ylabel='Users Count',label='big')\n",
    "#ax.set_title(\"Average {} User Count by Hour for \\n Workdays vs. Non Work Days\".format(user_type),fontsize=20)\n",
    "\n",
    "\n",
    "# Create scatterplot of dataframe\n",
    "#sn.lmplot('temp', # Horizontal axis\n",
    "#           'count', # Vertical axis\n",
    "#           data=Casual, # Data source\n",
    "#           fit_reg=False # Don't fix a regression line\n",
    "#          )\n",
    "#Casual"
   ]
  },
  {
   "cell_type": "code",
   "execution_count": 221,
   "metadata": {
    "collapsed": true
   },
   "outputs": [],
   "source": [
    "sn.lmplot?"
   ]
  },
  {
   "cell_type": "code",
   "execution_count": null,
   "metadata": {
    "collapsed": true
   },
   "outputs": [],
   "source": []
  }
 ],
 "metadata": {
  "kernelspec": {
   "display_name": "Python 2",
   "language": "python",
   "name": "python2"
  },
  "language_info": {
   "codemirror_mode": {
    "name": "ipython",
    "version": 2
   },
   "file_extension": ".py",
   "mimetype": "text/x-python",
   "name": "python",
   "nbconvert_exporter": "python",
   "pygments_lexer": "ipython2",
   "version": "2.7.13"
  }
 },
 "nbformat": 4,
 "nbformat_minor": 1
}
